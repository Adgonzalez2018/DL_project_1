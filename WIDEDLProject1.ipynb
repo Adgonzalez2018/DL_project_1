{
  "nbformat": 4,
  "nbformat_minor": 0,
  "metadata": {
    "colab": {
      "provenance": [],
      "machine_shape": "hm",
      "gpuType": "A100"
    },
    "kernelspec": {
      "name": "python3",
      "display_name": "Python 3"
    },
    "language_info": {
      "name": "python"
    },
    "accelerator": "GPU"
  },
  "cells": [
    {
      "cell_type": "markdown",
      "source": [
        "Import"
      ],
      "metadata": {
        "id": "x0KuPPPoCUqx"
      }
    },
    {
      "cell_type": "code",
      "execution_count": null,
      "metadata": {
        "id": "MAB5jFxj45fB",
        "colab": {
          "base_uri": "https://localhost:8080/"
        },
        "outputId": "1219cde0-c35d-4dfe-da47-6fbf3bb0912f"
      },
      "outputs": [
        {
          "output_type": "stream",
          "name": "stdout",
          "text": [
            "Importing\n"
          ]
        }
      ],
      "source": [
        "print(\"Importing\")\n",
        "import numpy as np\n",
        "import torch\n",
        "import torchvision\n",
        "import matplotlib.pyplot as plt\n",
        "import torch.nn as nn\n",
        "from sklearn.metrics import accuracy_score\n",
        "import argparse\n",
        "import time\n",
        "import math\n",
        "import torch.nn.functional as F\n",
        "from torch.optim.lr_scheduler import MultiStepLR\n",
        "import os\n",
        "import pickle\n",
        "from PIL import Image\n",
        "from torch.utils.data import Dataset, DataLoader"
      ]
    },
    {
      "cell_type": "code",
      "source": [
        "from google.colab import drive\n",
        "drive.mount('/content/drive')\n",
        "os.chdir('/content/drive/My Drive/DLProject1')"
      ],
      "metadata": {
        "id": "Qq-zcuaG36XI",
        "colab": {
          "base_uri": "https://localhost:8080/"
        },
        "outputId": "4f96977c-7a9e-4a1d-e0eb-0572c02afe92"
      },
      "execution_count": null,
      "outputs": [
        {
          "output_type": "stream",
          "name": "stdout",
          "text": [
            "Mounted at /content/drive\n"
          ]
        }
      ]
    },
    {
      "cell_type": "markdown",
      "source": [
        "Data and transformations"
      ],
      "metadata": {
        "id": "w8-AgX6Prhr3"
      }
    },
    {
      "cell_type": "code",
      "source": [
        "transform = torchvision.transforms.Compose([\n",
        "    torchvision.transforms.RandomCrop(32, padding=4, padding_mode='reflect'),\n",
        "    torchvision.transforms.RandomHorizontalFlip(),\n",
        "    torchvision.transforms.ToTensor(),\n",
        "    torchvision.transforms.Normalize(mean=[0.4914, 0.4822, 0.4465], std=[0.2023, 0.1994, 0.2010])\n",
        "])\n",
        "\n",
        "normform = torchvision.transforms.Compose([torchvision.transforms.ToTensor(),torchvision.transforms.Normalize(mean=[0.4914, 0.4822, 0.4465], std=[0.2023, 0.1994, 0.2010])])\n",
        "train= torchvision.datasets.CIFAR10('./CIFAR10', train=True, download=True, transform=transform)\n",
        "# testorig = torchvision.datasets.CIFAR10('./CIFAR10', train=False, download=True, transform=torchvision.transforms.Compose([torchvision.transforms.ToTensor()]))\n",
        "test = torchvision.datasets.CIFAR10('./CIFAR10', train=False, download=True, transform=normform)\n",
        "\n",
        "# train_size = int(0.8 * len(trainall)) # 80% for training\n",
        "# val_size = len(trainall) - train_size # Remaining 20% for validation\n",
        "# train, val = torch.utils.data.random_split(trainall, [train_size, val_size])"
      ],
      "metadata": {
        "colab": {
          "base_uri": "https://localhost:8080/"
        },
        "id": "iOyvHXaz5G5-",
        "outputId": "3f298a0a-ee5e-4cd8-b680-5816b45d2085",
        "collapsed": true
      },
      "execution_count": null,
      "outputs": [
        {
          "output_type": "stream",
          "name": "stdout",
          "text": [
            "Files already downloaded and verified\n",
            "Files already downloaded and verified\n"
          ]
        }
      ]
    },
    {
      "cell_type": "code",
      "source": [
        "trainDataLoader = torch.utils.data.DataLoader(train, batch_size=128, shuffle=True, num_workers=4)\n",
        "testDataLoader = torch.utils.data.DataLoader(test, batch_size=128, shuffle=False, num_workers=4)\n",
        "# origDataLoader = torch.utils.data.DataLoader(testorig, batch_size=128, shuffle=False, num_workers=4)"
      ],
      "metadata": {
        "id": "iL7se3PT70BP"
      },
      "execution_count": null,
      "outputs": []
    },
    {
      "cell_type": "markdown",
      "source": [
        "Kaggle test data"
      ],
      "metadata": {
        "id": "wPJEtecErlmq"
      }
    },
    {
      "cell_type": "code",
      "source": [
        "normform = torchvision.transforms.Compose([torchvision.transforms.ToTensor(),torchvision.transforms.Normalize(mean=[0.4914, 0.4822, 0.4465], std=[0.2023, 0.1994, 0.2010])])\n",
        "def load_cifar_batch(file):\n",
        "    with open(file, 'rb') as fo:\n",
        "        batch = pickle.load(fo, encoding='bytes')\n",
        "    return batch\n",
        "\n",
        "# Load the batch\n",
        "ftest = load_cifar_batch('cifar_test_nolabel.pkl')\n",
        "\n",
        "# Extract images\n",
        "images = ftest[b'data']\n",
        "ids = ftest[b'ids']\n",
        "\n",
        "class ImageDataset(Dataset):\n",
        "    def __init__(self, image_array, ids, transform=None):\n",
        "        self.image_array = image_array\n",
        "        self.transform = transform\n",
        "        self.ids = ids\n",
        "    def __len__(self):\n",
        "        return len(self.image_array)\n",
        "\n",
        "    def __getitem__(self, idx):\n",
        "        image = Image.fromarray(self.image_array[idx])\n",
        "        id = self.ids[idx]\n",
        "        if self.transform:\n",
        "            image = self.transform(image)\n",
        "        return image,id\n",
        "\n",
        "ftestdataset = ImageDataset(images, ids, transform=normform)\n",
        "ftestDataLoader = DataLoader(ftestdataset, batch_size=128, shuffle=False)"
      ],
      "metadata": {
        "id": "xn8x0LY9-Fpy"
      },
      "execution_count": null,
      "outputs": []
    },
    {
      "cell_type": "markdown",
      "source": [
        "Model"
      ],
      "metadata": {
        "id": "yIXate1QCaKC"
      }
    },
    {
      "cell_type": "code",
      "source": [
        "class BasicBlock(nn.Module):\n",
        "    def __init__(self, in_planes, out_planes, stride, dropRate=0.0):\n",
        "        super(BasicBlock, self).__init__()\n",
        "        self.bn1 = nn.BatchNorm2d(in_planes)\n",
        "        self.relu1 = nn.ReLU(inplace=True)\n",
        "        self.conv1 = nn.Conv2d(in_planes, out_planes, kernel_size=3, stride=stride,\n",
        "                               padding=1, bias=False)\n",
        "        self.bn2 = nn.BatchNorm2d(out_planes)\n",
        "        self.relu2 = nn.ReLU(inplace=True)\n",
        "        self.conv2 = nn.Conv2d(out_planes, out_planes, kernel_size=3, stride=1,\n",
        "                               padding=1, bias=False)\n",
        "        self.droprate = dropRate\n",
        "        self.equalInOut = (in_planes == out_planes)\n",
        "        self.convShortcut = (not self.equalInOut) and nn.Conv2d(in_planes, out_planes, kernel_size=1, stride=stride,\n",
        "                               padding=0, bias=False) or None\n",
        "    def forward(self, x):\n",
        "        if not self.equalInOut:\n",
        "            x = self.relu1(self.bn1(x))\n",
        "        else:\n",
        "            out = self.relu1(self.bn1(x))\n",
        "        out = self.relu2(self.bn2(self.conv1(out if self.equalInOut else x)))\n",
        "        if self.droprate > 0:\n",
        "            out = F.dropout(out, p=self.droprate, training=self.training)\n",
        "        out = self.conv2(out)\n",
        "        return torch.add(x if self.equalInOut else self.convShortcut(x), out)\n",
        "\n",
        "class NetworkBlock(nn.Module):\n",
        "    def __init__(self, nb_layers, in_planes, out_planes, block, stride, dropRate=0.0):\n",
        "        super(NetworkBlock, self).__init__()\n",
        "        self.layer = self._make_layer(block, in_planes, out_planes, nb_layers, stride, dropRate)\n",
        "    def _make_layer(self, block, in_planes, out_planes, nb_layers, stride, dropRate):\n",
        "        layers = []\n",
        "        for i in range(int(nb_layers)):\n",
        "            layers.append(block(i == 0 and in_planes or out_planes, out_planes, i == 0 and stride or 1, dropRate))\n",
        "        return nn.Sequential(*layers)\n",
        "    def forward(self, x):\n",
        "        return self.layer(x)\n",
        "\n",
        "class WideResNet(nn.Module):\n",
        "    def __init__(self, depth=34, num_classes=10, widen_factor=3, dropRate=0.4):\n",
        "        super(WideResNet, self).__init__()\n",
        "        nChannels = [16, 16*widen_factor, 32*widen_factor, 64*widen_factor]\n",
        "        assert((depth - 4) % 6 == 0)\n",
        "        n = (depth - 4) / 6\n",
        "        block = BasicBlock\n",
        "        # 1st conv before any network block\n",
        "        self.conv1 = nn.Conv2d(3, nChannels[0], kernel_size=3, stride=1,\n",
        "                               padding=1, bias=False)\n",
        "        # 1st block\n",
        "        self.block1 = NetworkBlock(n, nChannels[0], nChannels[1], block, 1, dropRate)\n",
        "        # 2nd block\n",
        "        self.block2 = NetworkBlock(n, nChannels[1], nChannels[2], block, 2, dropRate)\n",
        "        # 3rd block\n",
        "        self.block3 = NetworkBlock(n, nChannels[2], nChannels[3], block, 2, dropRate)\n",
        "        # global average pooling and classifier\n",
        "        self.bn1 = nn.BatchNorm2d(nChannels[3])\n",
        "        self.relu = nn.ReLU(inplace=True)\n",
        "        self.fc = nn.Linear(nChannels[3], num_classes)\n",
        "        self.nChannels = nChannels[3]\n",
        "\n",
        "        for m in self.modules():\n",
        "            if isinstance(m, nn.Conv2d):\n",
        "                nn.init.kaiming_normal_(m.weight, mode='fan_out', nonlinearity='relu')\n",
        "            elif isinstance(m, nn.BatchNorm2d):\n",
        "                m.weight.data.fill_(1)\n",
        "                m.bias.data.zero_()\n",
        "            elif isinstance(m, nn.Linear):\n",
        "                m.bias.data.zero_()\n",
        "    def forward(self, x):\n",
        "        out = self.conv1(x)\n",
        "        out = self.block1(out)\n",
        "        out = self.block2(out)\n",
        "        out = self.block3(out)\n",
        "        out = self.relu(self.bn1(out))\n",
        "        out = F.avg_pool2d(out, 8)\n",
        "        out = out.view(-1, self.nChannels)\n",
        "        return self.fc(out)"
      ],
      "metadata": {
        "id": "MZW9sdCPqa5V"
      },
      "execution_count": null,
      "outputs": []
    },
    {
      "cell_type": "markdown",
      "source": [
        "Parameters and optimizer"
      ],
      "metadata": {
        "id": "g3CmDhJKrpqL"
      }
    },
    {
      "cell_type": "code",
      "source": [
        "depth = 34\n",
        "width_factor = 3\n",
        "droprate = 0.4\n",
        "model = WideResNet(depth=depth, widen_factor=width_factor, dropRate=droprate).cuda()\n",
        "loss = torch.nn.CrossEntropyLoss()\n",
        "epochs = 100\n",
        "optimizer = None\n",
        "opt = 'sgdwn'\n",
        "match opt: #C6\n",
        "  case 'sgd':\n",
        "    optimizer = torch.optim.SGD(model.parameters(), lr=0.1, momentum=0.9, weight_decay=5e-4)\n",
        "  case 'sgdwn':\n",
        "    optimizer = torch.optim.SGD(model.parameters(), lr=0.01, momentum=0.9, weight_decay=5e-3, nesterov=True)\n",
        "  case 'adagrad':\n",
        "    optimizer = torch.optim.Adagrad(model.parameters(), lr=0.1, lr_decay=0, weight_decay=5e-4, initial_accumulator_value=0, eps=1e-10)\n",
        "  case 'adadelta':\n",
        "    optimizer = torch.optim.Adadelta(model.parameters(), lr=0.1, rho=0.9, eps=1e-06, weight_decay=5e-4)\n",
        "  case 'adam':\n",
        "    optimizer = torch.optim.Adam(model.parameters(), lr=0.001, betas=(0.9, 0.999), eps=1e-08, weight_decay=5e-4)\n",
        "  case 'adamw':\n",
        "    optimizer = torch.optim.AdamW(model.parameters(), lr=0.001, betas=(0.9, 0.999), eps=1e-08, weight_decay=5e-4)\n",
        "\n",
        "scheduler = MultiStepLR(optimizer, milestones=[20,30,40,50,60,65,70,75,80,85,90,95], gamma=0.3)\n",
        "#scheduler = torch.optim.lr_scheduler.CosineAnnealingLR(optimizer, T_max=epochs)"
      ],
      "metadata": {
        "id": "cUCF3YxFrUAM"
      },
      "execution_count": null,
      "outputs": []
    },
    {
      "cell_type": "markdown",
      "source": [
        "Param count"
      ],
      "metadata": {
        "id": "JP560GMFrwge"
      }
    },
    {
      "cell_type": "code",
      "source": [
        "def test(net):\n",
        "    import numpy as np\n",
        "    total_params = 0\n",
        "\n",
        "    for x in filter(lambda p: p.requires_grad, net.parameters()):\n",
        "        total_params += np.prod(x.data.numpy().shape)\n",
        "    print(\"Total number of params\", total_params)\n",
        "    print(\"Total layers\", len(list(filter(lambda p: p.requires_grad and len(p.data.size())>1, net.parameters()))))\n",
        "testmodel = WideResNet()\n",
        "test(testmodel)\n"
      ],
      "metadata": {
        "colab": {
          "base_uri": "https://localhost:8080/"
        },
        "id": "s_a_e4FZQXc-",
        "outputId": "2b7d79c6-8226-45c6-abe9-7dfeed7cae7e"
      },
      "execution_count": null,
      "outputs": [
        {
          "output_type": "stream",
          "name": "stdout",
          "text": [
            "Total number of params 4166298\n",
            "Total layers 35\n"
          ]
        }
      ]
    },
    {
      "cell_type": "markdown",
      "source": [
        "Training loop + Load model"
      ],
      "metadata": {
        "id": "GJSZYy8FftOJ"
      }
    },
    {
      "cell_type": "code",
      "source": [
        "state_dict = torch.load('WideRes/d28w3sgdwnmallmodel_weights.pth')\n",
        "model.load_state_dict(state_dict)"
      ],
      "metadata": {
        "id": "oQFmMaipNwc-",
        "colab": {
          "base_uri": "https://localhost:8080/"
        },
        "outputId": "db097ada-bbad-448d-e0c8-eb0850956c19"
      },
      "execution_count": null,
      "outputs": [
        {
          "output_type": "stream",
          "name": "stderr",
          "text": [
            "<ipython-input-7-8bb992c91775>:1: FutureWarning: You are using `torch.load` with `weights_only=False` (the current default value), which uses the default pickle module implicitly. It is possible to construct malicious pickle data which will execute arbitrary code during unpickling (See https://github.com/pytorch/pytorch/blob/main/SECURITY.md#untrusted-models for more details). In a future release, the default value for `weights_only` will be flipped to `True`. This limits the functions that could be executed during unpickling. Arbitrary objects will no longer be allowed to be loaded via this mode unless they are explicitly allowlisted by the user via `torch.serialization.add_safe_globals`. We recommend you start setting `weights_only=True` for any use case where you don't have full control of the loaded file. Please open an issue on GitHub for any issues related to this experimental feature.\n",
            "  state_dict = torch.load('WideRes/d28w3sgdwnmallmodel_weights.pth')\n"
          ]
        },
        {
          "output_type": "execute_result",
          "data": {
            "text/plain": [
              "<All keys matched successfully>"
            ]
          },
          "metadata": {},
          "execution_count": 7
        }
      ]
    },
    {
      "cell_type": "code",
      "source": [
        "print(\"Training ...\")\n",
        "train_loss_history = []\n",
        "val_loss_history = []\n",
        "train_acc_history = []\n",
        "val_acc_history = []\n",
        "\n",
        "for epoch in range(epochs):\n",
        "  train_loss = val_loss = 0.0\n",
        "  predictions = np.empty(0)\n",
        "  groundtruth = np.empty(0)\n",
        "  valpredictions = np.empty(0)\n",
        "  valgroundtruth = np.empty(0)\n",
        "\n",
        "  # train\n",
        "  model.train()\n",
        "  trainiter = iter(trainDataLoader)\n",
        "  for i in range(len(trainDataLoader)):\n",
        "\n",
        "    images, labels = next(trainiter)\n",
        "\n",
        "    #Move to device\n",
        "    images = images.cuda()\n",
        "    labels = labels.cuda()\n",
        "\n",
        "    optimizer.zero_grad()\n",
        "    outputs = model(images) #forward\n",
        "    fit = loss(outputs, labels) #calculate loss\n",
        "    fit.backward() #backprop\n",
        "    optimizer.step() #update weights\n",
        "    train_loss += fit.item()\n",
        "\n",
        "    predlabels = torch.max(outputs, dim=1)[1]\n",
        "    predictions = np.append(predictions, predlabels.cpu().detach().numpy())\n",
        "    groundtruth = np.append(groundtruth, labels.cpu().detach().numpy())\n",
        "  scheduler.step() #LR\n",
        "\n",
        "  # validation\n",
        "  model.eval()\n",
        "  valiter = iter(testDataLoader)\n",
        "  for i in range(len(testDataLoader)):\n",
        "    with torch.no_grad():\n",
        "\n",
        "      images, labels = next(valiter)\n",
        "\n",
        "      #Move to device\n",
        "      images = images.cuda()\n",
        "      labels = labels.cuda()\n",
        "\n",
        "      outputs = model(images) #forward\n",
        "      fit = loss(outputs, labels) #calculate loss\n",
        "      val_loss += fit.item()\n",
        "\n",
        "      predlabels = torch.max(outputs, dim=1)[1]\n",
        "      valpredictions = np.append(valpredictions, predlabels.cpu().detach().numpy())\n",
        "      valgroundtruth = np.append(valgroundtruth, labels.cpu().detach().numpy())\n",
        "  train_loss = train_loss/len(trainDataLoader)\n",
        "  val_loss = val_loss/len(testDataLoader)\n",
        "  train_loss_history.append(train_loss)\n",
        "  val_loss_history.append(val_loss)\n",
        "  print('Epoch: {} \\tTraining Loss: {:.6f} \\tValidation Loss: {:.6f}'.format(epoch+1, train_loss, val_loss))\n",
        "\n",
        "  train_acc_history.append(accuracy_score(predictions, groundtruth))\n",
        "  val_acc_history.append(accuracy_score(valpredictions, valgroundtruth))\n",
        "\n",
        "print('Best Training Accuracy: {:.6f}\\n'.format(max(train_acc_history)))\n",
        "print('Best Validation Accuracy: {:.6f}\\n'.format(max(val_acc_history)))\n",
        "\n",
        "#save model\n",
        "torch.save(model.state_dict(), 'WideRes/d34w3sgdwnsmallmodel_weights.pth')"
      ],
      "metadata": {
        "colab": {
          "base_uri": "https://localhost:8080/"
        },
        "id": "H-M3NTuhBvL0",
        "outputId": "2dbd9ff6-a995-4c99-e913-810a46029c85",
        "collapsed": true
      },
      "execution_count": null,
      "outputs": [
        {
          "output_type": "stream",
          "name": "stdout",
          "text": [
            "Training ...\n",
            "Epoch: 1 \tTraining Loss: 1.900013 \tValidation Loss: 2.802761\n",
            "Epoch: 2 \tTraining Loss: 1.553443 \tValidation Loss: 1.636399\n",
            "Epoch: 3 \tTraining Loss: 1.265645 \tValidation Loss: 1.346302\n",
            "Epoch: 4 \tTraining Loss: 1.095651 \tValidation Loss: 1.165082\n",
            "Epoch: 5 \tTraining Loss: 0.989288 \tValidation Loss: 1.088321\n",
            "Epoch: 6 \tTraining Loss: 0.905842 \tValidation Loss: 0.984243\n",
            "Epoch: 7 \tTraining Loss: 0.828518 \tValidation Loss: 0.798061\n",
            "Epoch: 8 \tTraining Loss: 0.756602 \tValidation Loss: 0.788947\n",
            "Epoch: 9 \tTraining Loss: 0.709118 \tValidation Loss: 0.889937\n",
            "Epoch: 10 \tTraining Loss: 0.669741 \tValidation Loss: 0.778383\n",
            "Epoch: 11 \tTraining Loss: 0.648387 \tValidation Loss: 0.628940\n",
            "Epoch: 12 \tTraining Loss: 0.626190 \tValidation Loss: 0.582549\n",
            "Epoch: 13 \tTraining Loss: 0.608712 \tValidation Loss: 0.719991\n",
            "Epoch: 14 \tTraining Loss: 0.593438 \tValidation Loss: 0.628991\n",
            "Epoch: 15 \tTraining Loss: 0.577969 \tValidation Loss: 0.733700\n",
            "Epoch: 16 \tTraining Loss: 0.570970 \tValidation Loss: 0.632779\n",
            "Epoch: 17 \tTraining Loss: 0.554098 \tValidation Loss: 0.513303\n",
            "Epoch: 18 \tTraining Loss: 0.550706 \tValidation Loss: 0.771963\n",
            "Epoch: 19 \tTraining Loss: 0.539480 \tValidation Loss: 0.743459\n",
            "Epoch: 20 \tTraining Loss: 0.533869 \tValidation Loss: 0.739680\n",
            "Epoch: 21 \tTraining Loss: 0.394048 \tValidation Loss: 0.337791\n",
            "Epoch: 22 \tTraining Loss: 0.364731 \tValidation Loss: 0.315090\n",
            "Epoch: 23 \tTraining Loss: 0.355055 \tValidation Loss: 0.368748\n",
            "Epoch: 24 \tTraining Loss: 0.350117 \tValidation Loss: 0.322347\n",
            "Epoch: 25 \tTraining Loss: 0.347083 \tValidation Loss: 0.358998\n",
            "Epoch: 26 \tTraining Loss: 0.341662 \tValidation Loss: 0.379478\n",
            "Epoch: 27 \tTraining Loss: 0.344611 \tValidation Loss: 0.351296\n",
            "Epoch: 28 \tTraining Loss: 0.341797 \tValidation Loss: 0.346141\n",
            "Epoch: 29 \tTraining Loss: 0.342510 \tValidation Loss: 0.393902\n",
            "Epoch: 30 \tTraining Loss: 0.335545 \tValidation Loss: 0.415278\n",
            "Epoch: 31 \tTraining Loss: 0.256363 \tValidation Loss: 0.233009\n",
            "Epoch: 32 \tTraining Loss: 0.230264 \tValidation Loss: 0.242908\n",
            "Epoch: 33 \tTraining Loss: 0.222603 \tValidation Loss: 0.258699\n",
            "Epoch: 34 \tTraining Loss: 0.215141 \tValidation Loss: 0.228313\n",
            "Epoch: 35 \tTraining Loss: 0.216012 \tValidation Loss: 0.245157\n",
            "Epoch: 36 \tTraining Loss: 0.204889 \tValidation Loss: 0.233788\n",
            "Epoch: 37 \tTraining Loss: 0.205060 \tValidation Loss: 0.239963\n",
            "Epoch: 38 \tTraining Loss: 0.207485 \tValidation Loss: 0.253625\n",
            "Epoch: 39 \tTraining Loss: 0.205080 \tValidation Loss: 0.252752\n",
            "Epoch: 40 \tTraining Loss: 0.201545 \tValidation Loss: 0.246184\n",
            "Epoch: 41 \tTraining Loss: 0.162348 \tValidation Loss: 0.208130\n",
            "Epoch: 42 \tTraining Loss: 0.145633 \tValidation Loss: 0.212833\n",
            "Epoch: 43 \tTraining Loss: 0.144357 \tValidation Loss: 0.205022\n",
            "Epoch: 44 \tTraining Loss: 0.138419 \tValidation Loss: 0.212770\n",
            "Epoch: 45 \tTraining Loss: 0.136941 \tValidation Loss: 0.207071\n",
            "Epoch: 46 \tTraining Loss: 0.135657 \tValidation Loss: 0.206176\n",
            "Epoch: 47 \tTraining Loss: 0.128845 \tValidation Loss: 0.209864\n",
            "Epoch: 48 \tTraining Loss: 0.123582 \tValidation Loss: 0.205944\n",
            "Epoch: 49 \tTraining Loss: 0.126427 \tValidation Loss: 0.216588\n",
            "Epoch: 50 \tTraining Loss: 0.123054 \tValidation Loss: 0.218453\n",
            "Epoch: 51 \tTraining Loss: 0.112953 \tValidation Loss: 0.198363\n",
            "Epoch: 52 \tTraining Loss: 0.103945 \tValidation Loss: 0.199430\n",
            "Epoch: 53 \tTraining Loss: 0.104942 \tValidation Loss: 0.197407\n",
            "Epoch: 54 \tTraining Loss: 0.099875 \tValidation Loss: 0.200883\n",
            "Epoch: 55 \tTraining Loss: 0.102744 \tValidation Loss: 0.201685\n",
            "Epoch: 56 \tTraining Loss: 0.103756 \tValidation Loss: 0.196875\n",
            "Epoch: 57 \tTraining Loss: 0.099272 \tValidation Loss: 0.200928\n",
            "Epoch: 58 \tTraining Loss: 0.100499 \tValidation Loss: 0.205749\n",
            "Epoch: 59 \tTraining Loss: 0.098950 \tValidation Loss: 0.200074\n",
            "Epoch: 60 \tTraining Loss: 0.098313 \tValidation Loss: 0.200659\n",
            "Epoch: 61 \tTraining Loss: 0.095048 \tValidation Loss: 0.203348\n",
            "Epoch: 62 \tTraining Loss: 0.092295 \tValidation Loss: 0.200109\n",
            "Epoch: 63 \tTraining Loss: 0.091068 \tValidation Loss: 0.202088\n",
            "Epoch: 64 \tTraining Loss: 0.090714 \tValidation Loss: 0.201047\n",
            "Epoch: 65 \tTraining Loss: 0.089944 \tValidation Loss: 0.204230\n",
            "Epoch: 66 \tTraining Loss: 0.088395 \tValidation Loss: 0.202978\n",
            "Epoch: 67 \tTraining Loss: 0.089765 \tValidation Loss: 0.200506\n",
            "Epoch: 68 \tTraining Loss: 0.085558 \tValidation Loss: 0.199537\n",
            "Epoch: 69 \tTraining Loss: 0.088204 \tValidation Loss: 0.204966\n",
            "Epoch: 70 \tTraining Loss: 0.087596 \tValidation Loss: 0.198057\n",
            "Epoch: 71 \tTraining Loss: 0.085386 \tValidation Loss: 0.200610\n",
            "Epoch: 72 \tTraining Loss: 0.086501 \tValidation Loss: 0.201575\n",
            "Epoch: 73 \tTraining Loss: 0.087699 \tValidation Loss: 0.201417\n",
            "Epoch: 74 \tTraining Loss: 0.087688 \tValidation Loss: 0.199678\n",
            "Epoch: 75 \tTraining Loss: 0.087265 \tValidation Loss: 0.201113\n",
            "Epoch: 76 \tTraining Loss: 0.087939 \tValidation Loss: 0.200953\n",
            "Epoch: 77 \tTraining Loss: 0.084797 \tValidation Loss: 0.202105\n",
            "Epoch: 78 \tTraining Loss: 0.086328 \tValidation Loss: 0.199746\n",
            "Epoch: 79 \tTraining Loss: 0.085317 \tValidation Loss: 0.200743\n",
            "Epoch: 80 \tTraining Loss: 0.084999 \tValidation Loss: 0.199092\n",
            "Epoch: 81 \tTraining Loss: 0.085730 \tValidation Loss: 0.199031\n",
            "Epoch: 82 \tTraining Loss: 0.084961 \tValidation Loss: 0.197783\n",
            "Epoch: 83 \tTraining Loss: 0.085296 \tValidation Loss: 0.197935\n",
            "Epoch: 84 \tTraining Loss: 0.087604 \tValidation Loss: 0.199409\n",
            "Epoch: 85 \tTraining Loss: 0.085340 \tValidation Loss: 0.201236\n",
            "Epoch: 86 \tTraining Loss: 0.087661 \tValidation Loss: 0.200605\n",
            "Epoch: 87 \tTraining Loss: 0.086842 \tValidation Loss: 0.198206\n",
            "Epoch: 88 \tTraining Loss: 0.085991 \tValidation Loss: 0.202541\n",
            "Epoch: 89 \tTraining Loss: 0.084820 \tValidation Loss: 0.201649\n",
            "Epoch: 90 \tTraining Loss: 0.088169 \tValidation Loss: 0.198645\n",
            "Epoch: 91 \tTraining Loss: 0.085096 \tValidation Loss: 0.199752\n",
            "Epoch: 92 \tTraining Loss: 0.086465 \tValidation Loss: 0.199911\n",
            "Epoch: 93 \tTraining Loss: 0.087768 \tValidation Loss: 0.203295\n",
            "Epoch: 94 \tTraining Loss: 0.088067 \tValidation Loss: 0.202277\n",
            "Epoch: 95 \tTraining Loss: 0.087113 \tValidation Loss: 0.198062\n",
            "Epoch: 96 \tTraining Loss: 0.084376 \tValidation Loss: 0.198075\n",
            "Epoch: 97 \tTraining Loss: 0.087764 \tValidation Loss: 0.200415\n",
            "Epoch: 98 \tTraining Loss: 0.084746 \tValidation Loss: 0.198899\n",
            "Epoch: 99 \tTraining Loss: 0.086765 \tValidation Loss: 0.199345\n",
            "Epoch: 100 \tTraining Loss: 0.086356 \tValidation Loss: 0.198877\n",
            "Best Training Accuracy: 0.978660\n",
            "\n",
            "Best Validation Accuracy: 0.943200\n",
            "\n"
          ]
        }
      ]
    },
    {
      "cell_type": "markdown",
      "source": [
        "Plots"
      ],
      "metadata": {
        "id": "uOx3lH3O89WH"
      }
    },
    {
      "cell_type": "code",
      "source": [
        "name = \"d34w3sgdwn\"\n",
        "plt.plot(train_loss_history, label='train')\n",
        "plt.plot(val_loss_history, label='val')\n",
        "plt.title('Loss '+name)\n",
        "plt.legend()\n",
        "plt.show()"
      ],
      "metadata": {
        "colab": {
          "base_uri": "https://localhost:8080/",
          "height": 452
        },
        "id": "U0-4zXleE1Aj",
        "outputId": "1066f245-3d87-435e-d47c-4a04a18fac73"
      },
      "execution_count": null,
      "outputs": [
        {
          "output_type": "display_data",
          "data": {
            "text/plain": [
              "<Figure size 640x480 with 1 Axes>"
            ],
            "image/png": "[encoded data removed]"
          },
          "metadata": {}
        }
      ]
    },
    {
      "cell_type": "code",
      "source": [
        "plt.plot(train_acc_history, label='train')\n",
        "plt.plot(val_acc_history, label='val')\n",
        "plt.title('Accuracy '+name)\n",
        "plt.legend()\n",
        "plt.show()"
      ],
      "metadata": {
        "colab": {
          "base_uri": "https://localhost:8080/",
          "height": 452
        },
        "id": "8jJak6OlFCwI",
        "outputId": "d82bf3a8-4fb0-4508-ab80-0b40d684b8c8"
      },
      "execution_count": null,
      "outputs": [
        {
          "output_type": "display_data",
          "data": {
            "text/plain": [
              "<Figure size 640x480 with 1 Axes>"
            ],
            "image/png": "[encoded data removed]"
          },
          "metadata": {}
        }
      ]
    },
    {
      "cell_type": "code",
      "source": [
        "# #test\n",
        "# testiter = iter(testDataLoader)\n",
        "# testpredictions = np.empty(0)\n",
        "# testgroundtruth = np.empty(0)\n",
        "# for i in range(len(testDataLoader)):\n",
        "#     with torch.no_grad():\n",
        "#       images, labels = next(testiter)\n",
        "\n",
        "#       #Move to device\n",
        "#       images = images.cuda()\n",
        "#       labels = labels.cuda()\n",
        "\n",
        "#       outputs = model(images) #forward\n",
        "#       fit = loss(outputs, labels) #calculate loss\n",
        "#       test_loss = fit.item()\n",
        "\n",
        "#       predlabels = torch.max(outputs, dim=1)[1]\n",
        "#       testpredictions = np.append(testpredictions, predlabels.cpu().detach().numpy())\n",
        "#       testgroundtruth = np.append(testgroundtruth, labels.cpu().detach().numpy())\n",
        "# test_acc = accuracy_score(testpredictions, testgroundtruth)\n",
        "# print('Final Test Accuracy: {:.6f}\\n'.format(test_acc))"
      ],
      "metadata": {
        "id": "MQRD12gtjEMQ"
      },
      "execution_count": null,
      "outputs": []
    },
    {
      "cell_type": "markdown",
      "source": [
        "Kaggle test output"
      ],
      "metadata": {
        "id": "Z2aBgHSTr_Ts"
      }
    },
    {
      "cell_type": "code",
      "source": [
        "#final test\n",
        "ftestiter = iter(ftestDataLoader)\n",
        "ftestpredictions = np.empty(0)\n",
        "ftestids = np.empty(0)\n",
        "for i in range(len(ftestDataLoader)):\n",
        "    with torch.no_grad():\n",
        "      images, ids = next(ftestiter)\n",
        "\n",
        "      #Move to device\n",
        "      images = images.cuda()\n",
        "\n",
        "      outputs = model(images) #forward\n",
        "\n",
        "      predlabels = torch.max(outputs, dim=1)[1]\n",
        "      ftestpredictions = np.append(ftestpredictions, predlabels.cpu().detach().numpy())\n",
        "      ftestids = np.append(ftestids, ids)\n",
        "ftestpredictions = ftestpredictions.astype(int)\n",
        "ftestids = ftestids.astype(int)\n",
        "outarr = np.column_stack((ftestids, ftestpredictions)).astype(int)\n",
        "\n",
        "header_string = \"ID,Labels\"\n",
        "\n",
        "# Save the array to a CSV file with headers\n",
        "np.savetxt(\"out.csv\", outarr, delimiter=\",\", header=header_string, fmt='%d', comments = \"\")"
      ],
      "metadata": {
        "id": "TUpLg0kS--Lg"
      },
      "execution_count": null,
      "outputs": []
    }
  ]
}